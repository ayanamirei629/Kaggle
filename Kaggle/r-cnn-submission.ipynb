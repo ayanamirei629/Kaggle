{
 "cells": [
  {
   "cell_type": "code",
   "execution_count": 1,
   "id": "e785c830",
   "metadata": {
    "execution": {
     "iopub.execute_input": "2023-11-30T05:57:19.447665Z",
     "iopub.status.busy": "2023-11-30T05:57:19.447378Z",
     "iopub.status.idle": "2023-11-30T05:57:30.917491Z",
     "shell.execute_reply": "2023-11-30T05:57:30.916591Z"
    },
    "papermill": {
     "duration": 11.480946,
     "end_time": "2023-11-30T05:57:30.919953",
     "exception": false,
     "start_time": "2023-11-30T05:57:19.439007",
     "status": "completed"
    },
    "tags": []
   },
   "outputs": [
    {
     "name": "stdout",
     "output_type": "stream",
     "text": [
      "Name: torchvision\r\n",
      "Version: 0.15.1\r\n",
      "Summary: image and video datasets and models for torch deep learning\r\n",
      "Home-page: https://github.com/pytorch/vision\r\n",
      "Author: PyTorch Core Team\r\n",
      "Author-email: soumith@pytorch.org\r\n",
      "License: BSD\r\n",
      "Location: /opt/conda/lib/python3.10/site-packages\r\n",
      "Requires: numpy, pillow, requests, torch\r\n",
      "Required-by: easyocr, fastai, timm\r\n"
     ]
    }
   ],
   "source": [
    "!pip show torchvision"
   ]
  },
  {
   "cell_type": "code",
   "execution_count": 2,
   "id": "c9c19674",
   "metadata": {
    "execution": {
     "iopub.execute_input": "2023-11-30T05:57:30.935619Z",
     "iopub.status.busy": "2023-11-30T05:57:30.935308Z",
     "iopub.status.idle": "2023-11-30T05:57:34.877313Z",
     "shell.execute_reply": "2023-11-30T05:57:34.876352Z"
    },
    "papermill": {
     "duration": 3.952346,
     "end_time": "2023-11-30T05:57:34.879637",
     "exception": false,
     "start_time": "2023-11-30T05:57:30.927291",
     "status": "completed"
    },
    "tags": []
   },
   "outputs": [
    {
     "name": "stderr",
     "output_type": "stream",
     "text": [
      "/opt/conda/lib/python3.10/site-packages/torchvision/datapoints/__init__.py:12: UserWarning: The torchvision.datapoints and torchvision.transforms.v2 namespaces are still Beta. While we do not expect major breaking changes, some APIs may still change according to user feedback. Please submit any feedback you may have in this issue: https://github.com/pytorch/vision/issues/6753, and you can also check out https://github.com/pytorch/vision/issues/7319 to learn more about the APIs that we suspect might involve future changes. You can silence this warning by calling torchvision.disable_beta_transforms_warning().\n",
      "  warnings.warn(_BETA_TRANSFORMS_WARNING)\n",
      "/opt/conda/lib/python3.10/site-packages/torchvision/transforms/v2/__init__.py:54: UserWarning: The torchvision.datapoints and torchvision.transforms.v2 namespaces are still Beta. While we do not expect major breaking changes, some APIs may still change according to user feedback. Please submit any feedback you may have in this issue: https://github.com/pytorch/vision/issues/6753, and you can also check out https://github.com/pytorch/vision/issues/7319 to learn more about the APIs that we suspect might involve future changes. You can silence this warning by calling torchvision.disable_beta_transforms_warning().\n",
      "  warnings.warn(_BETA_TRANSFORMS_WARNING)\n"
     ]
    }
   ],
   "source": [
    "import os\n",
    "from pathlib import Path\n",
    "import numpy as np\n",
    "import pandas as pd\n",
    "from datetime import datetime, timezone, timedelta\n",
    "import matplotlib.pyplot as plt\n",
    "import matplotlib\n",
    "matplotlib.use(\"Agg\")\n",
    "import torch\n",
    "import torchvision\n",
    "from torchvision.io import read_image\n",
    "from torchvision.transforms import v2 as T\n",
    "from torchvision.models.detection.faster_rcnn import FastRCNNPredictor"
   ]
  },
  {
   "cell_type": "markdown",
   "id": "a6d8b22a",
   "metadata": {
    "papermill": {
     "duration": 0.006888,
     "end_time": "2023-11-30T05:57:34.893834",
     "exception": false,
     "start_time": "2023-11-30T05:57:34.886946",
     "status": "completed"
    },
    "tags": []
   },
   "source": [
    "# Object detection data prep"
   ]
  },
  {
   "cell_type": "code",
   "execution_count": 3,
   "id": "42e17a3d",
   "metadata": {
    "execution": {
     "iopub.execute_input": "2023-11-30T05:57:34.909045Z",
     "iopub.status.busy": "2023-11-30T05:57:34.908584Z",
     "iopub.status.idle": "2023-11-30T05:57:34.913147Z",
     "shell.execute_reply": "2023-11-30T05:57:34.912392Z"
    },
    "papermill": {
     "duration": 0.014226,
     "end_time": "2023-11-30T05:57:34.914969",
     "exception": false,
     "start_time": "2023-11-30T05:57:34.900743",
     "status": "completed"
    },
    "tags": []
   },
   "outputs": [],
   "source": [
    "working_folder = Path(\"/kaggle/working/\")\n",
    "images_folder = working_folder/\"images\"\n",
    "images_folder.mkdir()"
   ]
  },
  {
   "cell_type": "code",
   "execution_count": 4,
   "id": "dd08f155",
   "metadata": {
    "execution": {
     "iopub.execute_input": "2023-11-30T05:57:34.930394Z",
     "iopub.status.busy": "2023-11-30T05:57:34.929570Z",
     "iopub.status.idle": "2023-11-30T05:57:35.893422Z",
     "shell.execute_reply": "2023-11-30T05:57:35.892267Z"
    },
    "papermill": {
     "duration": 0.973931,
     "end_time": "2023-11-30T05:57:35.895855",
     "exception": false,
     "start_time": "2023-11-30T05:57:34.921924",
     "status": "completed"
    },
    "tags": []
   },
   "outputs": [
    {
     "name": "stdout",
     "output_type": "stream",
     "text": [
      "sample_submission.csv  train_events.csv\r\n",
      "test_series.parquet    train_series.parquet\r\n"
     ]
    }
   ],
   "source": [
    "data_folder = Path(\"/kaggle/input/child-mind-institute-detect-sleep-states\")\n",
    "!ls {data_folder}"
   ]
  },
  {
   "cell_type": "code",
   "execution_count": 5,
   "id": "a34bf442",
   "metadata": {
    "execution": {
     "iopub.execute_input": "2023-11-30T05:57:35.911616Z",
     "iopub.status.busy": "2023-11-30T05:57:35.911317Z",
     "iopub.status.idle": "2023-11-30T05:57:36.100472Z",
     "shell.execute_reply": "2023-11-30T05:57:36.099624Z"
    },
    "papermill": {
     "duration": 0.199293,
     "end_time": "2023-11-30T05:57:36.102505",
     "exception": false,
     "start_time": "2023-11-30T05:57:35.903212",
     "status": "completed"
    },
    "tags": []
   },
   "outputs": [
    {
     "data": {
      "text/html": [
       "<div>\n",
       "<style scoped>\n",
       "    .dataframe tbody tr th:only-of-type {\n",
       "        vertical-align: middle;\n",
       "    }\n",
       "\n",
       "    .dataframe tbody tr th {\n",
       "        vertical-align: top;\n",
       "    }\n",
       "\n",
       "    .dataframe thead th {\n",
       "        text-align: right;\n",
       "    }\n",
       "</style>\n",
       "<table border=\"1\" class=\"dataframe\">\n",
       "  <thead>\n",
       "    <tr style=\"text-align: right;\">\n",
       "      <th></th>\n",
       "      <th>series_id</th>\n",
       "      <th>step</th>\n",
       "      <th>timestamp</th>\n",
       "      <th>anglez</th>\n",
       "      <th>enmo</th>\n",
       "    </tr>\n",
       "  </thead>\n",
       "  <tbody>\n",
       "    <tr>\n",
       "      <th>0</th>\n",
       "      <td>038441c925bb</td>\n",
       "      <td>0</td>\n",
       "      <td>2018-08-14T15:30:00-0400</td>\n",
       "      <td>2.636700</td>\n",
       "      <td>0.0217</td>\n",
       "    </tr>\n",
       "    <tr>\n",
       "      <th>1</th>\n",
       "      <td>038441c925bb</td>\n",
       "      <td>1</td>\n",
       "      <td>2018-08-14T15:30:05-0400</td>\n",
       "      <td>2.636800</td>\n",
       "      <td>0.0215</td>\n",
       "    </tr>\n",
       "    <tr>\n",
       "      <th>2</th>\n",
       "      <td>038441c925bb</td>\n",
       "      <td>2</td>\n",
       "      <td>2018-08-14T15:30:10-0400</td>\n",
       "      <td>2.637000</td>\n",
       "      <td>0.0216</td>\n",
       "    </tr>\n",
       "    <tr>\n",
       "      <th>3</th>\n",
       "      <td>038441c925bb</td>\n",
       "      <td>3</td>\n",
       "      <td>2018-08-14T15:30:15-0400</td>\n",
       "      <td>2.636800</td>\n",
       "      <td>0.0213</td>\n",
       "    </tr>\n",
       "    <tr>\n",
       "      <th>4</th>\n",
       "      <td>038441c925bb</td>\n",
       "      <td>4</td>\n",
       "      <td>2018-08-14T15:30:20-0400</td>\n",
       "      <td>2.636800</td>\n",
       "      <td>0.0215</td>\n",
       "    </tr>\n",
       "    <tr>\n",
       "      <th>...</th>\n",
       "      <td>...</td>\n",
       "      <td>...</td>\n",
       "      <td>...</td>\n",
       "      <td>...</td>\n",
       "      <td>...</td>\n",
       "    </tr>\n",
       "    <tr>\n",
       "      <th>445</th>\n",
       "      <td>0402a003dae9</td>\n",
       "      <td>145</td>\n",
       "      <td>2018-12-18T12:57:05-0500</td>\n",
       "      <td>-59.696899</td>\n",
       "      <td>0.0601</td>\n",
       "    </tr>\n",
       "    <tr>\n",
       "      <th>446</th>\n",
       "      <td>0402a003dae9</td>\n",
       "      <td>146</td>\n",
       "      <td>2018-12-18T12:57:10-0500</td>\n",
       "      <td>-35.656601</td>\n",
       "      <td>0.0427</td>\n",
       "    </tr>\n",
       "    <tr>\n",
       "      <th>447</th>\n",
       "      <td>0402a003dae9</td>\n",
       "      <td>147</td>\n",
       "      <td>2018-12-18T12:57:15-0500</td>\n",
       "      <td>-21.582399</td>\n",
       "      <td>0.0309</td>\n",
       "    </tr>\n",
       "    <tr>\n",
       "      <th>448</th>\n",
       "      <td>0402a003dae9</td>\n",
       "      <td>148</td>\n",
       "      <td>2018-12-18T12:57:20-0500</td>\n",
       "      <td>-42.616001</td>\n",
       "      <td>0.0328</td>\n",
       "    </tr>\n",
       "    <tr>\n",
       "      <th>449</th>\n",
       "      <td>0402a003dae9</td>\n",
       "      <td>149</td>\n",
       "      <td>2018-12-18T12:57:25-0500</td>\n",
       "      <td>7.029900</td>\n",
       "      <td>0.0081</td>\n",
       "    </tr>\n",
       "  </tbody>\n",
       "</table>\n",
       "<p>450 rows × 5 columns</p>\n",
       "</div>"
      ],
      "text/plain": [
       "        series_id  step                 timestamp     anglez    enmo\n",
       "0    038441c925bb     0  2018-08-14T15:30:00-0400   2.636700  0.0217\n",
       "1    038441c925bb     1  2018-08-14T15:30:05-0400   2.636800  0.0215\n",
       "2    038441c925bb     2  2018-08-14T15:30:10-0400   2.637000  0.0216\n",
       "3    038441c925bb     3  2018-08-14T15:30:15-0400   2.636800  0.0213\n",
       "4    038441c925bb     4  2018-08-14T15:30:20-0400   2.636800  0.0215\n",
       "..            ...   ...                       ...        ...     ...\n",
       "445  0402a003dae9   145  2018-12-18T12:57:05-0500 -59.696899  0.0601\n",
       "446  0402a003dae9   146  2018-12-18T12:57:10-0500 -35.656601  0.0427\n",
       "447  0402a003dae9   147  2018-12-18T12:57:15-0500 -21.582399  0.0309\n",
       "448  0402a003dae9   148  2018-12-18T12:57:20-0500 -42.616001  0.0328\n",
       "449  0402a003dae9   149  2018-12-18T12:57:25-0500   7.029900  0.0081\n",
       "\n",
       "[450 rows x 5 columns]"
      ]
     },
     "execution_count": 5,
     "metadata": {},
     "output_type": "execute_result"
    }
   ],
   "source": [
    "test_series = pd.read_parquet(data_folder/\"test_series.parquet\")\n",
    "test_series"
   ]
  },
  {
   "cell_type": "code",
   "execution_count": 6,
   "id": "f9a49829",
   "metadata": {
    "execution": {
     "iopub.execute_input": "2023-11-30T05:57:36.118848Z",
     "iopub.status.busy": "2023-11-30T05:57:36.118544Z",
     "iopub.status.idle": "2023-11-30T05:57:36.123570Z",
     "shell.execute_reply": "2023-11-30T05:57:36.122725Z"
    },
    "papermill": {
     "duration": 0.015297,
     "end_time": "2023-11-30T05:57:36.125510",
     "exception": false,
     "start_time": "2023-11-30T05:57:36.110213",
     "status": "completed"
    },
    "tags": []
   },
   "outputs": [],
   "source": [
    "test_series['large_enmo'] = test_series['enmo'] > 0.2"
   ]
  },
  {
   "cell_type": "code",
   "execution_count": 7,
   "id": "5e14af2a",
   "metadata": {
    "execution": {
     "iopub.execute_input": "2023-11-30T05:57:36.141191Z",
     "iopub.status.busy": "2023-11-30T05:57:36.140940Z",
     "iopub.status.idle": "2023-11-30T05:57:36.147612Z",
     "shell.execute_reply": "2023-11-30T05:57:36.146789Z"
    },
    "papermill": {
     "duration": 0.016657,
     "end_time": "2023-11-30T05:57:36.149624",
     "exception": false,
     "start_time": "2023-11-30T05:57:36.132967",
     "status": "completed"
    },
    "tags": []
   },
   "outputs": [
    {
     "data": {
      "text/plain": [
       "3"
      ]
     },
     "execution_count": 7,
     "metadata": {},
     "output_type": "execute_result"
    }
   ],
   "source": [
    "series_ids = test_series['series_id'].unique()\n",
    "len(series_ids)"
   ]
  },
  {
   "cell_type": "code",
   "execution_count": 8,
   "id": "10840bd7",
   "metadata": {
    "execution": {
     "iopub.execute_input": "2023-11-30T05:57:36.165642Z",
     "iopub.status.busy": "2023-11-30T05:57:36.165363Z",
     "iopub.status.idle": "2023-11-30T05:57:36.819905Z",
     "shell.execute_reply": "2023-11-30T05:57:36.819122Z"
    },
    "papermill": {
     "duration": 0.665099,
     "end_time": "2023-11-30T05:57:36.822121",
     "exception": false,
     "start_time": "2023-11-30T05:57:36.157022",
     "status": "completed"
    },
    "tags": []
   },
   "outputs": [
    {
     "name": "stdout",
     "output_type": "stream",
     "text": [
      "i: 0\n",
      "series_id: 038441c925bb\n",
      "i: 1\n",
      "series_id: 03d92c9f6f8a\n",
      "i: 2\n",
      "series_id: 0402a003dae9\n"
     ]
    }
   ],
   "source": [
    "window_properties = []\n",
    "for i in range(len(series_ids)):\n",
    "    print(\"i:\", i)\n",
    "    print(\"series_id:\", series_ids[i])\n",
    "    series = test_series.loc[test_series['series_id'] == series_ids[i]].reset_index(drop=True)\n",
    "    series['color'] = [\"blue\" if large_enmo else \"green\" for large_enmo in series['large_enmo']]\n",
    "    series['timestamp'] = pd.to_datetime(series['timestamp'])\n",
    "    series['timestamp_utc'] = series['timestamp'].map(lambda timestamp: timestamp.astimezone(timezone.utc))\n",
    "    series['anglez_radians'] = (np.pi / 180) * series['anglez']\n",
    "    series['cos_anglez'] = np.cos(series['anglez_radians'])\n",
    "    series['enmo'] = np.clip(series['enmo'], 0, 1)\n",
    "    min_date_utc = series['timestamp_utc'].dt.date.min()\n",
    "    max_date_utc = series['timestamp_utc'].dt.date.max()\n",
    "    series_24_hour_windows = {}    \n",
    "    upper_bound = datetime(year=min_date_utc.year, month=min_date_utc.month, day=min_date_utc.day, hour=20, minute=30, tzinfo=timezone.utc)\n",
    "    lower_bound = upper_bound + timedelta(hours=-24) # 8:30pm UTC on the previous day.\n",
    "    while lower_bound < series['timestamp_utc'].max():\n",
    "        window_df = series.loc[(series['timestamp_utc'] >= lower_bound) & (series['timestamp_utc'] < upper_bound)].reset_index(drop=True)\n",
    "        if len(window_df) > 0:\n",
    "            series_24_hour_windows[upper_bound.isoformat()[:-6]] = window_df\n",
    "        upper_bound += timedelta(hours=24)\n",
    "        lower_bound += timedelta(hours=24)\n",
    "    \n",
    "    windows = list(series_24_hour_windows.keys())\n",
    "    num_steps_cumulative = 0\n",
    "    for window_idx, window in enumerate(windows):        \n",
    "        fig = plt.figure(figsize=(14.4, 4))  # (width, height) in inches\n",
    "        plt.plot(series_24_hour_windows[window]['timestamp_utc'], series_24_hour_windows[window]['cos_anglez'], color=\"red\")\n",
    "        plt.scatter(series_24_hour_windows[window]['timestamp_utc'], series_24_hour_windows[window]['enmo'], color=series_24_hour_windows[window]['color'], s=1)\n",
    "        ax = plt.gca()\n",
    "        ax.spines['top'].set_visible(False)\n",
    "        ax.spines['right'].set_visible(False)\n",
    "        ax.spines['bottom'].set_visible(False)\n",
    "        ax.spines['left'].set_visible(False)\n",
    "        ax.set_xticks([])\n",
    "        ax.set_yticks([])\n",
    "        plt.margins(0, 0)\n",
    "        plt.subplots_adjust(left=0, right=1, top=1, bottom=0)\n",
    "        plt.savefig(images_folder/f\"{series_ids[i]}_{window}.jpg\", bbox_inches=\"tight\", pad_inches=0)\n",
    "        plt.clf()\n",
    "        plt.cla()\n",
    "        plt.close()\n",
    "\n",
    "        min_ts_window = series_24_hour_windows[window]['timestamp_utc'].min()\n",
    "        max_ts_window = series_24_hour_windows[window]['timestamp_utc'].max()\n",
    "        num_steps_window = (max_ts_window - min_ts_window).total_seconds() / 5 + 1\n",
    "        num_steps_cumulative += num_steps_window\n",
    "        window_properties.append({\n",
    "            'series_id': series_ids[i], \n",
    "            'image_name': f\"{series_ids[i]}_{window}.jpg\", \n",
    "            'idx_in_series': window_idx, \n",
    "            'num_steps_window': num_steps_window, \n",
    "            'num_steps_cumulative': num_steps_cumulative\n",
    "        })"
   ]
  },
  {
   "cell_type": "code",
   "execution_count": 9,
   "id": "ea396290",
   "metadata": {
    "execution": {
     "iopub.execute_input": "2023-11-30T05:57:36.838639Z",
     "iopub.status.busy": "2023-11-30T05:57:36.838366Z",
     "iopub.status.idle": "2023-11-30T05:57:36.849381Z",
     "shell.execute_reply": "2023-11-30T05:57:36.848553Z"
    },
    "papermill": {
     "duration": 0.021518,
     "end_time": "2023-11-30T05:57:36.851467",
     "exception": false,
     "start_time": "2023-11-30T05:57:36.829949",
     "status": "completed"
    },
    "tags": []
   },
   "outputs": [
    {
     "data": {
      "text/html": [
       "<div>\n",
       "<style scoped>\n",
       "    .dataframe tbody tr th:only-of-type {\n",
       "        vertical-align: middle;\n",
       "    }\n",
       "\n",
       "    .dataframe tbody tr th {\n",
       "        vertical-align: top;\n",
       "    }\n",
       "\n",
       "    .dataframe thead th {\n",
       "        text-align: right;\n",
       "    }\n",
       "</style>\n",
       "<table border=\"1\" class=\"dataframe\">\n",
       "  <thead>\n",
       "    <tr style=\"text-align: right;\">\n",
       "      <th></th>\n",
       "      <th>series_id</th>\n",
       "      <th>image_name</th>\n",
       "      <th>idx_in_series</th>\n",
       "      <th>num_steps_window</th>\n",
       "      <th>num_steps_cumulative</th>\n",
       "    </tr>\n",
       "  </thead>\n",
       "  <tbody>\n",
       "    <tr>\n",
       "      <th>0</th>\n",
       "      <td>038441c925bb</td>\n",
       "      <td>038441c925bb_2018-08-14T20:30:00.jpg</td>\n",
       "      <td>0</td>\n",
       "      <td>150.0</td>\n",
       "      <td>150.0</td>\n",
       "    </tr>\n",
       "    <tr>\n",
       "      <th>1</th>\n",
       "      <td>03d92c9f6f8a</td>\n",
       "      <td>03d92c9f6f8a_2018-05-31T20:30:00.jpg</td>\n",
       "      <td>0</td>\n",
       "      <td>150.0</td>\n",
       "      <td>150.0</td>\n",
       "    </tr>\n",
       "    <tr>\n",
       "      <th>2</th>\n",
       "      <td>0402a003dae9</td>\n",
       "      <td>0402a003dae9_2018-12-18T20:30:00.jpg</td>\n",
       "      <td>0</td>\n",
       "      <td>150.0</td>\n",
       "      <td>150.0</td>\n",
       "    </tr>\n",
       "  </tbody>\n",
       "</table>\n",
       "</div>"
      ],
      "text/plain": [
       "      series_id                            image_name  idx_in_series  \\\n",
       "0  038441c925bb  038441c925bb_2018-08-14T20:30:00.jpg              0   \n",
       "1  03d92c9f6f8a  03d92c9f6f8a_2018-05-31T20:30:00.jpg              0   \n",
       "2  0402a003dae9  0402a003dae9_2018-12-18T20:30:00.jpg              0   \n",
       "\n",
       "   num_steps_window  num_steps_cumulative  \n",
       "0             150.0                 150.0  \n",
       "1             150.0                 150.0  \n",
       "2             150.0                 150.0  "
      ]
     },
     "execution_count": 9,
     "metadata": {},
     "output_type": "execute_result"
    }
   ],
   "source": [
    "window_properties_df = pd.DataFrame(window_properties)\n",
    "window_properties_df"
   ]
  },
  {
   "cell_type": "markdown",
   "id": "79072138",
   "metadata": {
    "papermill": {
     "duration": 0.00795,
     "end_time": "2023-11-30T05:57:36.867550",
     "exception": false,
     "start_time": "2023-11-30T05:57:36.859600",
     "status": "completed"
    },
    "tags": []
   },
   "source": [
    "# Transforms"
   ]
  },
  {
   "cell_type": "code",
   "execution_count": 10,
   "id": "9e8d9752",
   "metadata": {
    "execution": {
     "iopub.execute_input": "2023-11-30T05:57:36.884102Z",
     "iopub.status.busy": "2023-11-30T05:57:36.883825Z",
     "iopub.status.idle": "2023-11-30T05:57:36.888667Z",
     "shell.execute_reply": "2023-11-30T05:57:36.887829Z"
    },
    "papermill": {
     "duration": 0.015418,
     "end_time": "2023-11-30T05:57:36.890643",
     "exception": false,
     "start_time": "2023-11-30T05:57:36.875225",
     "status": "completed"
    },
    "tags": []
   },
   "outputs": [],
   "source": [
    "def get_transforms():\n",
    "    transforms = []\n",
    "    transforms.append(T.ConvertDtype(torch.float))\n",
    "    transforms.append(T.Normalize([0.485, 0.456, 0.406], [0.229, 0.224, 0.225]))\n",
    "    return T.Compose(transforms)"
   ]
  },
  {
   "cell_type": "markdown",
   "id": "440778ca",
   "metadata": {
    "papermill": {
     "duration": 0.007509,
     "end_time": "2023-11-30T05:57:36.905923",
     "exception": false,
     "start_time": "2023-11-30T05:57:36.898414",
     "status": "completed"
    },
    "tags": []
   },
   "source": [
    "From the <a href=\"https://pytorch.org/vision/0.15/generated/torchvision.transforms.v2.ConvertDtype.html\" target=\"_blank\">documentation</a>:\n",
    "\n",
    "> Convert input image or video to the given `dtype` and scale the values accordingly."
   ]
  },
  {
   "cell_type": "code",
   "execution_count": 11,
   "id": "0309c827",
   "metadata": {
    "execution": {
     "iopub.execute_input": "2023-11-30T05:57:36.922551Z",
     "iopub.status.busy": "2023-11-30T05:57:36.922272Z",
     "iopub.status.idle": "2023-11-30T05:57:36.926424Z",
     "shell.execute_reply": "2023-11-30T05:57:36.925549Z"
    },
    "papermill": {
     "duration": 0.014614,
     "end_time": "2023-11-30T05:57:36.928358",
     "exception": false,
     "start_time": "2023-11-30T05:57:36.913744",
     "status": "completed"
    },
    "tags": []
   },
   "outputs": [],
   "source": [
    "eval_transforms = get_transforms()"
   ]
  },
  {
   "cell_type": "markdown",
   "id": "df813de5",
   "metadata": {
    "papermill": {
     "duration": 0.007453,
     "end_time": "2023-11-30T05:57:36.943578",
     "exception": false,
     "start_time": "2023-11-30T05:57:36.936125",
     "status": "completed"
    },
    "tags": []
   },
   "source": [
    "# Instantiating the model"
   ]
  },
  {
   "cell_type": "code",
   "execution_count": 12,
   "id": "29a0de89",
   "metadata": {
    "execution": {
     "iopub.execute_input": "2023-11-30T05:57:36.960039Z",
     "iopub.status.busy": "2023-11-30T05:57:36.959759Z",
     "iopub.status.idle": "2023-11-30T05:57:37.028754Z",
     "shell.execute_reply": "2023-11-30T05:57:37.027989Z"
    },
    "papermill": {
     "duration": 0.079225,
     "end_time": "2023-11-30T05:57:37.030510",
     "exception": false,
     "start_time": "2023-11-30T05:57:36.951285",
     "status": "completed"
    },
    "tags": []
   },
   "outputs": [
    {
     "data": {
      "text/plain": [
       "device(type='cuda')"
      ]
     },
     "execution_count": 12,
     "metadata": {},
     "output_type": "execute_result"
    }
   ],
   "source": [
    "device = torch.device(\"cuda\") if torch.cuda.is_available() else torch.device(\"cpu\")\n",
    "device"
   ]
  },
  {
   "cell_type": "code",
   "execution_count": 13,
   "id": "46bda1f3",
   "metadata": {
    "execution": {
     "iopub.execute_input": "2023-11-30T05:57:37.047996Z",
     "iopub.status.busy": "2023-11-30T05:57:37.047725Z",
     "iopub.status.idle": "2023-11-30T05:57:37.708181Z",
     "shell.execute_reply": "2023-11-30T05:57:37.707185Z"
    },
    "papermill": {
     "duration": 0.671673,
     "end_time": "2023-11-30T05:57:37.710509",
     "exception": false,
     "start_time": "2023-11-30T05:57:37.038836",
     "status": "completed"
    },
    "tags": []
   },
   "outputs": [],
   "source": [
    "model = torchvision.models.detection.fasterrcnn_resnet50_fpn(weights=None, weights_backbone=None, max_size=1440)\n",
    "# Replace the classifier with a new one, that has num_classes which is user-defined:\n",
    "num_classes = 3 # 2 classes ('onset' & 'wakeup') + the 'background' class\n",
    "# Get the number of input features for the box classifier:\n",
    "in_features = model.roi_heads.box_predictor.cls_score.in_features\n",
    "# Replace the pre-trained box predictor head with a new one:\n",
    "model.roi_heads.box_predictor = FastRCNNPredictor(in_features, num_classes)"
   ]
  },
  {
   "cell_type": "code",
   "execution_count": 14,
   "id": "4969f061",
   "metadata": {
    "execution": {
     "iopub.execute_input": "2023-11-30T05:57:37.727879Z",
     "iopub.status.busy": "2023-11-30T05:57:37.727565Z",
     "iopub.status.idle": "2023-11-30T05:57:42.409598Z",
     "shell.execute_reply": "2023-11-30T05:57:42.408655Z"
    },
    "papermill": {
     "duration": 4.692885,
     "end_time": "2023-11-30T05:57:42.411646",
     "exception": false,
     "start_time": "2023-11-30T05:57:37.718761",
     "status": "completed"
    },
    "tags": []
   },
   "outputs": [
    {
     "data": {
      "text/plain": [
       "<All keys matched successfully>"
      ]
     },
     "execution_count": 14,
     "metadata": {},
     "output_type": "execute_result"
    }
   ],
   "source": [
    "weights = torch.load(\"/kaggle/input/d-s-s-faster-r-cnn-modeling/m12_4.pth\", map_location=device)\n",
    "model.load_state_dict(weights)"
   ]
  },
  {
   "cell_type": "code",
   "execution_count": 15,
   "id": "b597144f",
   "metadata": {
    "execution": {
     "iopub.execute_input": "2023-11-30T05:57:42.429334Z",
     "iopub.status.busy": "2023-11-30T05:57:42.429039Z",
     "iopub.status.idle": "2023-11-30T05:57:42.494051Z",
     "shell.execute_reply": "2023-11-30T05:57:42.493359Z"
    },
    "papermill": {
     "duration": 0.075823,
     "end_time": "2023-11-30T05:57:42.495999",
     "exception": false,
     "start_time": "2023-11-30T05:57:42.420176",
     "status": "completed"
    },
    "tags": []
   },
   "outputs": [],
   "source": [
    "model.to(device);"
   ]
  },
  {
   "cell_type": "markdown",
   "id": "c001b857",
   "metadata": {
    "papermill": {
     "duration": 0.00778,
     "end_time": "2023-11-30T05:57:42.511843",
     "exception": false,
     "start_time": "2023-11-30T05:57:42.504063",
     "status": "completed"
    },
    "tags": []
   },
   "source": [
    "# Inference"
   ]
  },
  {
   "cell_type": "code",
   "execution_count": 16,
   "id": "d4b4897b",
   "metadata": {
    "execution": {
     "iopub.execute_input": "2023-11-30T05:57:42.529035Z",
     "iopub.status.busy": "2023-11-30T05:57:42.528769Z",
     "iopub.status.idle": "2023-11-30T05:57:42.534101Z",
     "shell.execute_reply": "2023-11-30T05:57:42.533396Z"
    },
    "papermill": {
     "duration": 0.015963,
     "end_time": "2023-11-30T05:57:42.535990",
     "exception": false,
     "start_time": "2023-11-30T05:57:42.520027",
     "status": "completed"
    },
    "tags": []
   },
   "outputs": [],
   "source": [
    "model.eval()\n",
    "thresh = 0.0 # Tune this.\n",
    "reverse_label_mapping = {1: \"onset\", 2: \"wakeup\"}"
   ]
  },
  {
   "cell_type": "code",
   "execution_count": 17,
   "id": "0aaf7abe",
   "metadata": {
    "execution": {
     "iopub.execute_input": "2023-11-30T05:57:42.552984Z",
     "iopub.status.busy": "2023-11-30T05:57:42.552713Z",
     "iopub.status.idle": "2023-11-30T05:57:42.567980Z",
     "shell.execute_reply": "2023-11-30T05:57:42.567103Z"
    },
    "papermill": {
     "duration": 0.026274,
     "end_time": "2023-11-30T05:57:42.570202",
     "exception": false,
     "start_time": "2023-11-30T05:57:42.543928",
     "status": "completed"
    },
    "tags": []
   },
   "outputs": [],
   "source": [
    "def get_submission_df():\n",
    "    all_test_preds = []\n",
    "    for i, series_id in enumerate(series_ids): # i is the index of the series.\n",
    "        series_rows = window_properties_df.loc[window_properties_df['series_id'] == series_id].reset_index(drop=True)\n",
    "        for j in range(len(series_rows)): # j is the index of the image (within the series).\n",
    "            image_name = series_rows['image_name'][j]\n",
    "            image_path = os.path.join(images_folder, image_name)\n",
    "            image = read_image(image_path)\n",
    "            with torch.no_grad():\n",
    "                x = eval_transforms(image)\n",
    "                x = x.to(device)\n",
    "                predictions = model([x])\n",
    "            pred = predictions[0]\n",
    "            \n",
    "            # Postprocessing: remove 'narrow' boxes as these are false positives.\n",
    "            pred_widths = pred['boxes'][:, 2] - pred['boxes'][:, 0]\n",
    "            pred['boxes'] = pred['boxes'][pred_widths > 10]\n",
    "            pred['labels'] = pred['labels'][pred_widths > 10]\n",
    "            pred['scores'] = pred['scores'][pred_widths > 10]\n",
    "            \n",
    "            pred['boxes'] = pred['boxes'][pred['scores'] > thresh]\n",
    "            pred['labels'] = pred['labels'][pred['scores'] > thresh]\n",
    "            pred['scores'] = pred['scores'][pred['scores'] > thresh]\n",
    "            \n",
    "            if len(pred['labels']) == 0:\n",
    "                continue\n",
    "            else:\n",
    "                pred_x = (pred['boxes'][:, 0] + pred['boxes'][:, 2]) / 2\n",
    "                pred_labels = [reverse_label_mapping[l.item()] for l in pred['labels']]\n",
    "                num_steps_window = series_rows['num_steps_window'][j]\n",
    "                if j == 0:\n",
    "                    prev_num_steps_cumulative = 0\n",
    "                else:\n",
    "                    prev_num_steps_cumulative = series_rows['num_steps_cumulative'][j - 1]            \n",
    "                for k in range(len(pred_labels)): # k is the index of the bounding box (within the image).\n",
    "                    event = {}\n",
    "                    step_in_window = (pred_x[k] / 1440) * num_steps_window # All images have width 1,440px.\n",
    "                    step_in_series = int(prev_num_steps_cumulative + step_in_window)\n",
    "                    event['series_id'] = series_id\n",
    "                    event['step'] = step_in_series\n",
    "                    event['event'] = pred_labels[k]\n",
    "                    event['score'] = pred['scores'][k].item()\n",
    "                    all_test_preds.append(event)          \n",
    "    if len(all_test_preds) > 0:\n",
    "        submission_df = pd.DataFrame(all_test_preds)\n",
    "        submission_df = submission_df.sort_values(by=['series_id', 'step']).reset_index(drop=True)\n",
    "        submission_df['row_id'] = np.arange(len(submission_df))\n",
    "        submission_df = submission_df[['row_id', 'series_id', 'step', 'event', 'score']]\n",
    "    else:\n",
    "        submission_df = pd.DataFrame({'row_id': [], 'series_id': [], 'step': [], 'event': [], 'score': []})\n",
    "    return submission_df"
   ]
  },
  {
   "cell_type": "code",
   "execution_count": 18,
   "id": "c8eca260",
   "metadata": {
    "execution": {
     "iopub.execute_input": "2023-11-30T05:57:42.587507Z",
     "iopub.status.busy": "2023-11-30T05:57:42.587263Z",
     "iopub.status.idle": "2023-11-30T05:57:46.999311Z",
     "shell.execute_reply": "2023-11-30T05:57:46.998350Z"
    },
    "papermill": {
     "duration": 4.422954,
     "end_time": "2023-11-30T05:57:47.001327",
     "exception": false,
     "start_time": "2023-11-30T05:57:42.578373",
     "status": "completed"
    },
    "tags": []
   },
   "outputs": [
    {
     "data": {
      "text/html": [
       "<div>\n",
       "<style scoped>\n",
       "    .dataframe tbody tr th:only-of-type {\n",
       "        vertical-align: middle;\n",
       "    }\n",
       "\n",
       "    .dataframe tbody tr th {\n",
       "        vertical-align: top;\n",
       "    }\n",
       "\n",
       "    .dataframe thead th {\n",
       "        text-align: right;\n",
       "    }\n",
       "</style>\n",
       "<table border=\"1\" class=\"dataframe\">\n",
       "  <thead>\n",
       "    <tr style=\"text-align: right;\">\n",
       "      <th></th>\n",
       "      <th>row_id</th>\n",
       "      <th>series_id</th>\n",
       "      <th>step</th>\n",
       "      <th>event</th>\n",
       "      <th>score</th>\n",
       "    </tr>\n",
       "  </thead>\n",
       "  <tbody>\n",
       "    <tr>\n",
       "      <th>0</th>\n",
       "      <td>0</td>\n",
       "      <td>038441c925bb</td>\n",
       "      <td>148</td>\n",
       "      <td>wakeup</td>\n",
       "      <td>0.069903</td>\n",
       "    </tr>\n",
       "    <tr>\n",
       "      <th>1</th>\n",
       "      <td>1</td>\n",
       "      <td>0402a003dae9</td>\n",
       "      <td>148</td>\n",
       "      <td>wakeup</td>\n",
       "      <td>0.261451</td>\n",
       "    </tr>\n",
       "  </tbody>\n",
       "</table>\n",
       "</div>"
      ],
      "text/plain": [
       "   row_id     series_id  step   event     score\n",
       "0       0  038441c925bb   148  wakeup  0.069903\n",
       "1       1  0402a003dae9   148  wakeup  0.261451"
      ]
     },
     "execution_count": 18,
     "metadata": {},
     "output_type": "execute_result"
    }
   ],
   "source": [
    "submission_df = get_submission_df()\n",
    "submission_df"
   ]
  },
  {
   "cell_type": "code",
   "execution_count": 19,
   "id": "cfe1b4de",
   "metadata": {
    "execution": {
     "iopub.execute_input": "2023-11-30T05:57:47.019303Z",
     "iopub.status.busy": "2023-11-30T05:57:47.019019Z",
     "iopub.status.idle": "2023-11-30T05:57:48.041943Z",
     "shell.execute_reply": "2023-11-30T05:57:48.040688Z"
    },
    "papermill": {
     "duration": 1.034928,
     "end_time": "2023-11-30T05:57:48.044581",
     "exception": false,
     "start_time": "2023-11-30T05:57:47.009653",
     "status": "completed"
    },
    "tags": []
   },
   "outputs": [],
   "source": [
    "!rm -rf /kaggle/working/images"
   ]
  },
  {
   "cell_type": "code",
   "execution_count": 20,
   "id": "9aa240af",
   "metadata": {
    "execution": {
     "iopub.execute_input": "2023-11-30T05:57:48.065849Z",
     "iopub.status.busy": "2023-11-30T05:57:48.065461Z",
     "iopub.status.idle": "2023-11-30T05:57:48.077854Z",
     "shell.execute_reply": "2023-11-30T05:57:48.077005Z"
    },
    "papermill": {
     "duration": 0.025724,
     "end_time": "2023-11-30T05:57:48.080287",
     "exception": false,
     "start_time": "2023-11-30T05:57:48.054563",
     "status": "completed"
    },
    "tags": []
   },
   "outputs": [],
   "source": [
    "submission_df.to_csv(\"submission.csv\", index=False)"
   ]
  },
  {
   "cell_type": "code",
   "execution_count": null,
   "id": "e899fd9f",
   "metadata": {
    "papermill": {
     "duration": 0.009478,
     "end_time": "2023-11-30T05:57:48.100518",
     "exception": false,
     "start_time": "2023-11-30T05:57:48.091040",
     "status": "completed"
    },
    "tags": []
   },
   "outputs": [],
   "source": []
  }
 ],
 "metadata": {
  "kaggle": {
   "accelerator": "gpu",
   "dataSources": [
    {
     "databundleVersionId": 6589269,
     "sourceId": 53666,
     "sourceType": "competition"
    },
    {
     "sourceId": 151114859,
     "sourceType": "kernelVersion"
    }
   ],
   "dockerImageVersionId": 30559,
   "isGpuEnabled": true,
   "isInternetEnabled": false,
   "language": "python",
   "sourceType": "notebook"
  },
  "kernelspec": {
   "display_name": "Python 3",
   "language": "python",
   "name": "python3"
  },
  "language_info": {
   "codemirror_mode": {
    "name": "ipython",
    "version": 3
   },
   "file_extension": ".py",
   "mimetype": "text/x-python",
   "name": "python",
   "nbconvert_exporter": "python",
   "pygments_lexer": "ipython3",
   "version": "3.10.12"
  },
  "papermill": {
   "default_parameters": {},
   "duration": 33.487755,
   "end_time": "2023-11-30T05:57:49.633573",
   "environment_variables": {},
   "exception": null,
   "input_path": "__notebook__.ipynb",
   "output_path": "__notebook__.ipynb",
   "parameters": {},
   "start_time": "2023-11-30T05:57:16.145818",
   "version": "2.4.0"
  }
 },
 "nbformat": 4,
 "nbformat_minor": 5
}
